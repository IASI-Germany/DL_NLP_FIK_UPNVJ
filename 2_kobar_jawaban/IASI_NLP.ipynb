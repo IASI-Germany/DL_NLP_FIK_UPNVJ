{
 "cells": [
  {
   "cell_type": "markdown",
   "metadata": {
    "id": "punL79CN7Ox6"
   },
   "source": [
    "##### Copyright 2020 The TensorFlow Authors."
   ]
  },
  {
   "cell_type": "code",
   "execution_count": null,
   "metadata": {
    "cellView": "form",
    "id": "_ckMIh7O7s6D"
   },
   "outputs": [],
   "source": [
    "#@title Licensed under the Apache License, Version 2.0 (the \"License\");\n",
    "# you may not use this file except in compliance with the License.\n",
    "# You may obtain a copy of the License at\n",
    "#\n",
    "# https://www.apache.org/licenses/LICENSE-2.0\n",
    "#\n",
    "# Unless required by applicable law or agreed to in writing, software\n",
    "# distributed under the License is distributed on an \"AS IS\" BASIS,\n",
    "# WITHOUT WARRANTIES OR CONDITIONS OF ANY KIND, either express or implied.\n",
    "# See the License for the specific language governing permissions and\n",
    "# limitations under the License."
   ]
  },
  {
   "cell_type": "markdown",
   "metadata": {
    "id": "Ph5eir3Pf-3z"
   },
   "source": [
    "# Optimizing the Text Generation Model"
   ]
  },
  {
   "cell_type": "markdown",
   "metadata": {
    "id": "S5Uhzt6vVIB2"
   },
   "source": [
    "<a href=\"https://colab.research.google.com/github/DTSense/Webinar_DeepLearning_4/blob/master/1_kobar_latihan/DTSense_NLP.ipynb\" target=\"_parent\"><img src=\"https://colab.research.google.com/assets/colab-badge.svg\" alt=\"Open In Colab\"/></a>"
   ]
  },
  {
   "cell_type": "markdown",
   "metadata": {
    "id": "4aHK2CYygXom"
   },
   "source": [
    "## Import TensorFlow and related functions"
   ]
  },
  {
   "cell_type": "code",
   "execution_count": null,
   "metadata": {
    "id": "2LmLTREBf5ng"
   },
   "outputs": [],
   "source": [
    "import tensorflow as tf\n",
    "\n",
    "from tensorflow.keras.preprocessing.text import Tokenizer\n",
    "from tensorflow.keras.preprocessing.sequence import pad_sequences\n",
    "\n",
    "# Other imports for processing data\n",
    "import string\n",
    "import numpy as np\n",
    "import pandas as pd"
   ]
  },
  {
   "cell_type": "markdown",
   "metadata": {
    "id": "GmLTO_dpgge9"
   },
   "source": [
    "## Get the Dataset\n",
    "\n",
    "As noted above, we'll utilize the [Song Lyrics dataset](https://www.kaggle.com/mousehead/songlyrics) on Kaggle again."
   ]
  },
  {
   "cell_type": "code",
   "execution_count": null,
   "metadata": {
    "colab": {
     "base_uri": "https://localhost:8080/"
    },
    "id": "4Bf5FVHfganK",
    "outputId": "56830fff-c312-46e8-bd0d-d6c05cf9e7e8"
   },
   "outputs": [
    {
     "name": "stdout",
     "output_type": "stream",
     "text": [
      "--2020-12-12 19:02:17--  https://drive.google.com/uc?id=1LiJFZd41ofrWoBtW-pMYsfz1w8Ny0Bj8\n",
      "Resolving drive.google.com (drive.google.com)... 74.125.135.100, 74.125.135.139, 74.125.135.101, ...\n",
      "Connecting to drive.google.com (drive.google.com)|74.125.135.100|:443... connected.\n",
      "HTTP request sent, awaiting response... 302 Moved Temporarily\n",
      "Location: https://doc-04-ak-docs.googleusercontent.com/docs/securesc/ha0ro937gcuc7l7deffksulhg5h7mbp1/mf1jme16nrodqg2dir5i94hhpkc1vht4/1607799675000/11118900490791463723/*/1LiJFZd41ofrWoBtW-pMYsfz1w8Ny0Bj8 [following]\n",
      "Warning: wildcards not supported in HTTP.\n",
      "--2020-12-12 19:02:19--  https://doc-04-ak-docs.googleusercontent.com/docs/securesc/ha0ro937gcuc7l7deffksulhg5h7mbp1/mf1jme16nrodqg2dir5i94hhpkc1vht4/1607799675000/11118900490791463723/*/1LiJFZd41ofrWoBtW-pMYsfz1w8Ny0Bj8\n",
      "Resolving doc-04-ak-docs.googleusercontent.com (doc-04-ak-docs.googleusercontent.com)... 74.125.28.132, 2607:f8b0:400e:c04::84\n",
      "Connecting to doc-04-ak-docs.googleusercontent.com (doc-04-ak-docs.googleusercontent.com)|74.125.28.132|:443... connected.\n",
      "HTTP request sent, awaiting response... 200 OK\n",
      "Length: unspecified [text/csv]\n",
      "Saving to: ‘/tmp/songdata.csv’\n",
      "\n",
      "/tmp/songdata.csv       [  <=>               ]  69.08M   284MB/s    in 0.2s    \n",
      "\n",
      "2020-12-12 19:02:20 (284 MB/s) - ‘/tmp/songdata.csv’ saved [72436445]\n",
      "\n"
     ]
    }
   ],
   "source": [
    "!wget --no-check-certificate \\\n",
    "    https://drive.google.com/uc?id=1LiJFZd41ofrWoBtW-pMYsfz1w8Ny0Bj8 \\\n",
    "    -O /tmp/songdata.csv"
   ]
  },
  {
   "cell_type": "code",
   "execution_count": null,
   "metadata": {
    "colab": {
     "base_uri": "https://localhost:8080/",
     "height": 356
    },
    "id": "VNbB4vMRT4N7",
    "outputId": "f8c06c27-6fd6-4f04-8057-298c8bc59734"
   },
   "outputs": [
    {
     "data": {
      "text/html": [
       "<div>\n",
       "<style scoped>\n",
       "    .dataframe tbody tr th:only-of-type {\n",
       "        vertical-align: middle;\n",
       "    }\n",
       "\n",
       "    .dataframe tbody tr th {\n",
       "        vertical-align: top;\n",
       "    }\n",
       "\n",
       "    .dataframe thead th {\n",
       "        text-align: right;\n",
       "    }\n",
       "</style>\n",
       "<table border=\"1\" class=\"dataframe\">\n",
       "  <thead>\n",
       "    <tr style=\"text-align: right;\">\n",
       "      <th></th>\n",
       "      <th>artist</th>\n",
       "      <th>song</th>\n",
       "      <th>link</th>\n",
       "      <th>text</th>\n",
       "    </tr>\n",
       "  </thead>\n",
       "  <tbody>\n",
       "    <tr>\n",
       "      <th>0</th>\n",
       "      <td>ABBA</td>\n",
       "      <td>Ahe's My Kind Of Girl</td>\n",
       "      <td>/a/abba/ahes+my+kind+of+girl_20598417.html</td>\n",
       "      <td>Look at her face, it's a wonderful face  \\nAnd...</td>\n",
       "    </tr>\n",
       "    <tr>\n",
       "      <th>1</th>\n",
       "      <td>ABBA</td>\n",
       "      <td>Andante, Andante</td>\n",
       "      <td>/a/abba/andante+andante_20002708.html</td>\n",
       "      <td>Take it easy with me, please  \\nTouch me gentl...</td>\n",
       "    </tr>\n",
       "    <tr>\n",
       "      <th>2</th>\n",
       "      <td>ABBA</td>\n",
       "      <td>As Good As New</td>\n",
       "      <td>/a/abba/as+good+as+new_20003033.html</td>\n",
       "      <td>I'll never know why I had to go  \\nWhy I had t...</td>\n",
       "    </tr>\n",
       "    <tr>\n",
       "      <th>3</th>\n",
       "      <td>ABBA</td>\n",
       "      <td>Bang</td>\n",
       "      <td>/a/abba/bang_20598415.html</td>\n",
       "      <td>Making somebody happy is a question of give an...</td>\n",
       "    </tr>\n",
       "    <tr>\n",
       "      <th>4</th>\n",
       "      <td>ABBA</td>\n",
       "      <td>Bang-A-Boomerang</td>\n",
       "      <td>/a/abba/bang+a+boomerang_20002668.html</td>\n",
       "      <td>Making somebody happy is a question of give an...</td>\n",
       "    </tr>\n",
       "    <tr>\n",
       "      <th>5</th>\n",
       "      <td>ABBA</td>\n",
       "      <td>Burning My Bridges</td>\n",
       "      <td>/a/abba/burning+my+bridges_20003011.html</td>\n",
       "      <td>Well, you hoot and you holler and you make me ...</td>\n",
       "    </tr>\n",
       "    <tr>\n",
       "      <th>6</th>\n",
       "      <td>ABBA</td>\n",
       "      <td>Cassandra</td>\n",
       "      <td>/a/abba/cassandra_20002811.html</td>\n",
       "      <td>Down in the street they're all singing and sho...</td>\n",
       "    </tr>\n",
       "    <tr>\n",
       "      <th>7</th>\n",
       "      <td>ABBA</td>\n",
       "      <td>Chiquitita</td>\n",
       "      <td>/a/abba/chiquitita_20002978.html</td>\n",
       "      <td>Chiquitita, tell me what's wrong  \\nYou're enc...</td>\n",
       "    </tr>\n",
       "    <tr>\n",
       "      <th>8</th>\n",
       "      <td>ABBA</td>\n",
       "      <td>Crazy World</td>\n",
       "      <td>/a/abba/crazy+world_20003013.html</td>\n",
       "      <td>I was out with the morning sun  \\nCouldn't sle...</td>\n",
       "    </tr>\n",
       "    <tr>\n",
       "      <th>9</th>\n",
       "      <td>ABBA</td>\n",
       "      <td>Crying Over You</td>\n",
       "      <td>/a/abba/crying+over+you_20177611.html</td>\n",
       "      <td>I'm waitin' for you baby  \\nI'm sitting all al...</td>\n",
       "    </tr>\n",
       "  </tbody>\n",
       "</table>\n",
       "</div>"
      ],
      "text/plain": [
       "  artist  ...                                               text\n",
       "0   ABBA  ...  Look at her face, it's a wonderful face  \\nAnd...\n",
       "1   ABBA  ...  Take it easy with me, please  \\nTouch me gentl...\n",
       "2   ABBA  ...  I'll never know why I had to go  \\nWhy I had t...\n",
       "3   ABBA  ...  Making somebody happy is a question of give an...\n",
       "4   ABBA  ...  Making somebody happy is a question of give an...\n",
       "5   ABBA  ...  Well, you hoot and you holler and you make me ...\n",
       "6   ABBA  ...  Down in the street they're all singing and sho...\n",
       "7   ABBA  ...  Chiquitita, tell me what's wrong  \\nYou're enc...\n",
       "8   ABBA  ...  I was out with the morning sun  \\nCouldn't sle...\n",
       "9   ABBA  ...  I'm waitin' for you baby  \\nI'm sitting all al...\n",
       "\n",
       "[10 rows x 4 columns]"
      ]
     },
     "execution_count": 18,
     "metadata": {
      "tags": []
     },
     "output_type": "execute_result"
    }
   ],
   "source": [
    "# Read the dataset from csv - this time with 250 songs\n",
    "dataset = pd.read_csv('/tmp/songdata.csv', dtype=str)[:10]\n",
    "\n",
    "dataset"
   ]
  },
  {
   "cell_type": "markdown",
   "metadata": {
    "id": "nWbMN_19jfRT"
   },
   "source": [
    "### Preprocessing"
   ]
  },
  {
   "cell_type": "code",
   "execution_count": null,
   "metadata": {
    "id": "LRmPPJegovBe"
   },
   "outputs": [],
   "source": [
    "def tokenize_corpus(corpus, num_words=-1):\n",
    "  # Fit a Tokenizer on the corpus\n",
    "  if num_words > -1:\n",
    "    tokenizer = Tokenizer(num_words=num_words)\n",
    "  else:\n",
    "    tokenizer = Tokenizer()\n",
    "  tokenizer.fit_on_texts(corpus)\n",
    "  return tokenizer\n",
    "\n",
    "def create_lyrics_corpus(dataset, field):\n",
    "  # Remove all other punctuation\n",
    "  dataset[field] = dataset[field].str.replace('[{}]'.format(string.punctuation), '')\n",
    "  # Make it lowercase\n",
    "  dataset[field] = dataset[field].str.lower()\n",
    "  # Make it one long string to split by line\n",
    "  lyrics = dataset[field].str.cat()\n",
    "  corpus = lyrics.split('\\n')\n",
    "  # Remove any trailing whitespace\n",
    "  for l in range(len(corpus)):\n",
    "    corpus[l] = corpus[l].rstrip()\n",
    "  # Remove any empty lines\n",
    "  corpus = [l for l in corpus if l != '']\n",
    "\n",
    "  return corpus"
   ]
  },
  {
   "cell_type": "code",
   "execution_count": null,
   "metadata": {
    "colab": {
     "base_uri": "https://localhost:8080/"
    },
    "id": "jKcVrbRrnH-n",
    "outputId": "86f6252e-3c02-4ea4-d606-9e80e1f04474"
   },
   "outputs": [
    {
     "name": "stdout",
     "output_type": "stream",
     "text": [
      "2000\n"
     ]
    }
   ],
   "source": [
    "# Create the corpus using the 'text' column containing lyrics\n",
    "corpus = create_lyrics_corpus(dataset, 'text')\n",
    "# Tokenize the corpus\n",
    "tokenizer = tokenize_corpus(corpus, num_words=2000)\n",
    "total_words = tokenizer.num_words\n",
    "\n",
    "# There should be a lot more words now\n",
    "print(total_words)"
   ]
  },
  {
   "cell_type": "markdown",
   "metadata": {
    "id": "iycX-gUTZFnn"
   },
   "source": [
    "### Create Sequences and Labels\n",
    "\n",
    "After preprocessing, we next need to create sequences and labels. Creating the sequences themselves is similar to before with `texts_to_sequences`, but also including the use of [N-Grams](https://towardsdatascience.com/introduction-to-language-models-n-gram-e323081503d9); creating the labels will now utilize those sequences as well as utilize one-hot encoding over all potential output words."
   ]
  },
  {
   "cell_type": "code",
   "execution_count": null,
   "metadata": {
    "id": "kkLAf3HmkPSo"
   },
   "outputs": [],
   "source": [
    "sequences = []\n",
    "for line in corpus:\n",
    "\ttoken_list = tokenizer.texts_to_sequences([line])[0]\n",
    "\tfor i in range(1, len(token_list)):\n",
    "\t\tn_gram_sequence = token_list[:i+1]\n",
    "\t\tsequences.append(n_gram_sequence)\n",
    "\n",
    "# Pad sequences for equal input length \n",
    "max_sequence_len = max([len(seq) for seq in sequences])\n",
    "sequences = np.array(pad_sequences(sequences, maxlen=max_sequence_len, padding='pre'))\n",
    "\n",
    "# Split sequences between the \"input\" sequence and \"output\" predicted word\n",
    "input_sequences, labels = sequences[:,:-1], sequences[:,-1]\n",
    "# One-hot encode the labels\n",
    "one_hot_labels = tf.keras.utils.to_categorical(labels, num_classes=total_words)"
   ]
  },
  {
   "cell_type": "code",
   "execution_count": null,
   "metadata": {
    "id": "a_m5LB-6YVWe"
   },
   "outputs": [],
   "source": [
    "# Check out how some of our data is being stored\n",
    "# The Tokenizer has just a single index per word\n",
    "print(tokenizer.word_index['know'])\n",
    "print(tokenizer.word_index['feeling'])\n",
    "# Input sequences will have multiple indexes\n",
    "print(input_sequences[5])\n",
    "print(input_sequences[6])\n",
    "# And the one hot labels will be as long as the full spread of tokenized words\n",
    "print(one_hot_labels[5])\n",
    "print(one_hot_labels[6])"
   ]
  },
  {
   "cell_type": "markdown",
   "metadata": {
    "id": "9KCRvoEaYunE"
   },
   "source": [
    "### Train a Text Generation Model\n",
    "\n",
    "Building an RNN to train our text generation model will be very similar to the sentiment models you've built previously. The only real change necessary is to make sure to use Categorical instead of Binary Cross Entropy as the loss function - we could use Binary before since the sentiment was only 0 or 1, but now there are hundreds of categories.\n",
    "\n",
    "From there, we should also consider using *more* epochs than before, as text generation can take a little longer to converge than sentiment analysis, *and* we aren't working with all that much data yet. I'll set it at 200 epochs here since we're only use part of the dataset, and training will tail off quite a bit over that many epochs."
   ]
  },
  {
   "cell_type": "code",
   "execution_count": null,
   "metadata": {
    "colab": {
     "base_uri": "https://localhost:8080/"
    },
    "id": "7nHOp6uWlP_P",
    "outputId": "fd3214f2-f500-4bb9-9939-3f7a2ffd4259"
   },
   "outputs": [
    {
     "name": "stdout",
     "output_type": "stream",
     "text": [
      "Epoch 1/100\n",
      "62/62 [==============================] - 0s 8ms/step - loss: 7.1253 - accuracy: 0.0202\n",
      "Epoch 2/100\n",
      "62/62 [==============================] - 1s 8ms/step - loss: 5.5985 - accuracy: 0.0399\n",
      "Epoch 3/100\n",
      "62/62 [==============================] - 1s 9ms/step - loss: 5.4464 - accuracy: 0.0338\n",
      "Epoch 4/100\n",
      "62/62 [==============================] - 1s 8ms/step - loss: 5.4010 - accuracy: 0.0399\n",
      "Epoch 5/100\n",
      "62/62 [==============================] - 1s 9ms/step - loss: 5.3515 - accuracy: 0.0333\n",
      "Epoch 6/100\n",
      "62/62 [==============================] - 1s 9ms/step - loss: 5.2881 - accuracy: 0.0383\n",
      "Epoch 7/100\n",
      "62/62 [==============================] - 1s 9ms/step - loss: 5.2309 - accuracy: 0.0388\n",
      "Epoch 8/100\n",
      "62/62 [==============================] - 1s 8ms/step - loss: 5.1802 - accuracy: 0.0404\n",
      "Epoch 9/100\n",
      "62/62 [==============================] - 1s 9ms/step - loss: 5.1377 - accuracy: 0.0394\n",
      "Epoch 10/100\n",
      "62/62 [==============================] - 0s 8ms/step - loss: 5.1048 - accuracy: 0.0459\n",
      "Epoch 11/100\n",
      "62/62 [==============================] - 1s 8ms/step - loss: 5.0752 - accuracy: 0.0505\n",
      "Epoch 12/100\n",
      "62/62 [==============================] - 1s 8ms/step - loss: 5.0480 - accuracy: 0.0510\n",
      "Epoch 13/100\n",
      "62/62 [==============================] - 0s 8ms/step - loss: 5.0253 - accuracy: 0.0484\n",
      "Epoch 14/100\n",
      "62/62 [==============================] - 0s 8ms/step - loss: 5.0040 - accuracy: 0.0510\n",
      "Epoch 15/100\n",
      "62/62 [==============================] - 1s 9ms/step - loss: 4.9855 - accuracy: 0.0469\n",
      "Epoch 16/100\n",
      "62/62 [==============================] - 1s 8ms/step - loss: 4.9670 - accuracy: 0.0510\n",
      "Epoch 17/100\n",
      "62/62 [==============================] - 0s 8ms/step - loss: 4.9484 - accuracy: 0.0520\n",
      "Epoch 18/100\n",
      "62/62 [==============================] - 0s 8ms/step - loss: 4.9304 - accuracy: 0.0454\n",
      "Epoch 19/100\n",
      "62/62 [==============================] - 0s 8ms/step - loss: 4.9097 - accuracy: 0.0484\n",
      "Epoch 20/100\n",
      "62/62 [==============================] - 0s 8ms/step - loss: 4.8930 - accuracy: 0.0489\n",
      "Epoch 21/100\n",
      "62/62 [==============================] - 0s 8ms/step - loss: 4.8726 - accuracy: 0.0489\n",
      "Epoch 22/100\n",
      "62/62 [==============================] - 1s 9ms/step - loss: 4.8520 - accuracy: 0.0469\n",
      "Epoch 23/100\n",
      "62/62 [==============================] - 1s 9ms/step - loss: 4.8265 - accuracy: 0.0510\n",
      "Epoch 24/100\n",
      "62/62 [==============================] - 1s 8ms/step - loss: 4.8012 - accuracy: 0.0505\n",
      "Epoch 25/100\n",
      "62/62 [==============================] - 1s 9ms/step - loss: 4.7770 - accuracy: 0.0580\n",
      "Epoch 26/100\n",
      "62/62 [==============================] - 1s 9ms/step - loss: 4.7499 - accuracy: 0.0545\n",
      "Epoch 27/100\n",
      "62/62 [==============================] - 1s 8ms/step - loss: 4.7250 - accuracy: 0.0530\n",
      "Epoch 28/100\n",
      "62/62 [==============================] - 1s 9ms/step - loss: 4.6969 - accuracy: 0.0580\n",
      "Epoch 29/100\n",
      "62/62 [==============================] - 0s 8ms/step - loss: 4.6676 - accuracy: 0.0565\n",
      "Epoch 30/100\n",
      "62/62 [==============================] - 0s 8ms/step - loss: 4.6381 - accuracy: 0.0676\n",
      "Epoch 31/100\n",
      "62/62 [==============================] - 0s 8ms/step - loss: 4.6023 - accuracy: 0.0747\n",
      "Epoch 32/100\n",
      "62/62 [==============================] - 0s 8ms/step - loss: 4.5669 - accuracy: 0.0742\n",
      "Epoch 33/100\n",
      "62/62 [==============================] - 0s 8ms/step - loss: 4.5328 - accuracy: 0.0994\n",
      "Epoch 34/100\n",
      "62/62 [==============================] - 1s 8ms/step - loss: 4.4964 - accuracy: 0.1049\n",
      "Epoch 35/100\n",
      "62/62 [==============================] - 1s 8ms/step - loss: 4.4629 - accuracy: 0.1070\n",
      "Epoch 36/100\n",
      "62/62 [==============================] - 1s 9ms/step - loss: 4.4272 - accuracy: 0.1160\n",
      "Epoch 37/100\n",
      "62/62 [==============================] - 0s 8ms/step - loss: 4.3931 - accuracy: 0.1191\n",
      "Epoch 38/100\n",
      "62/62 [==============================] - 1s 8ms/step - loss: 4.3581 - accuracy: 0.1241\n",
      "Epoch 39/100\n",
      "62/62 [==============================] - 0s 8ms/step - loss: 4.3256 - accuracy: 0.1317\n",
      "Epoch 40/100\n",
      "62/62 [==============================] - 1s 8ms/step - loss: 4.2917 - accuracy: 0.1372\n",
      "Epoch 41/100\n",
      "62/62 [==============================] - 0s 7ms/step - loss: 4.2593 - accuracy: 0.1443\n",
      "Epoch 42/100\n",
      "62/62 [==============================] - 0s 8ms/step - loss: 4.2252 - accuracy: 0.1504\n",
      "Epoch 43/100\n",
      "62/62 [==============================] - 0s 8ms/step - loss: 4.1932 - accuracy: 0.1509\n",
      "Epoch 44/100\n",
      "62/62 [==============================] - 0s 8ms/step - loss: 4.1578 - accuracy: 0.1554\n",
      "Epoch 45/100\n",
      "62/62 [==============================] - 0s 8ms/step - loss: 4.1270 - accuracy: 0.1650\n",
      "Epoch 46/100\n",
      "62/62 [==============================] - 1s 9ms/step - loss: 4.0936 - accuracy: 0.1635\n",
      "Epoch 47/100\n",
      "62/62 [==============================] - 1s 9ms/step - loss: 4.0619 - accuracy: 0.1816\n",
      "Epoch 48/100\n",
      "62/62 [==============================] - 1s 9ms/step - loss: 4.0290 - accuracy: 0.1781\n",
      "Epoch 49/100\n",
      "62/62 [==============================] - 1s 8ms/step - loss: 3.9988 - accuracy: 0.2023\n",
      "Epoch 50/100\n",
      "62/62 [==============================] - 1s 8ms/step - loss: 3.9671 - accuracy: 0.2008\n",
      "Epoch 51/100\n",
      "62/62 [==============================] - 1s 9ms/step - loss: 3.9348 - accuracy: 0.2124\n",
      "Epoch 52/100\n",
      "62/62 [==============================] - 1s 8ms/step - loss: 3.9041 - accuracy: 0.2215\n",
      "Epoch 53/100\n",
      "62/62 [==============================] - 0s 8ms/step - loss: 3.8727 - accuracy: 0.2215\n",
      "Epoch 54/100\n",
      "62/62 [==============================] - 1s 8ms/step - loss: 3.8391 - accuracy: 0.2321\n",
      "Epoch 55/100\n",
      "62/62 [==============================] - 1s 8ms/step - loss: 3.8099 - accuracy: 0.2326\n",
      "Epoch 56/100\n",
      "62/62 [==============================] - 1s 8ms/step - loss: 3.7785 - accuracy: 0.2397\n",
      "Epoch 57/100\n",
      "62/62 [==============================] - 0s 8ms/step - loss: 3.7456 - accuracy: 0.2452\n",
      "Epoch 58/100\n",
      "62/62 [==============================] - 0s 8ms/step - loss: 3.7162 - accuracy: 0.2477\n",
      "Epoch 59/100\n",
      "62/62 [==============================] - 0s 8ms/step - loss: 3.6837 - accuracy: 0.2518\n",
      "Epoch 60/100\n",
      "62/62 [==============================] - 1s 8ms/step - loss: 3.6526 - accuracy: 0.2629\n",
      "Epoch 61/100\n",
      "62/62 [==============================] - 0s 8ms/step - loss: 3.6212 - accuracy: 0.2624\n",
      "Epoch 62/100\n",
      "62/62 [==============================] - 1s 8ms/step - loss: 3.5905 - accuracy: 0.2709\n",
      "Epoch 63/100\n",
      "62/62 [==============================] - 0s 8ms/step - loss: 3.5597 - accuracy: 0.2800\n",
      "Epoch 64/100\n",
      "62/62 [==============================] - 1s 9ms/step - loss: 3.5262 - accuracy: 0.2810\n",
      "Epoch 65/100\n",
      "62/62 [==============================] - 1s 9ms/step - loss: 3.4963 - accuracy: 0.2886\n",
      "Epoch 66/100\n",
      "62/62 [==============================] - 0s 8ms/step - loss: 3.4643 - accuracy: 0.2967\n",
      "Epoch 67/100\n",
      "62/62 [==============================] - 0s 8ms/step - loss: 3.4341 - accuracy: 0.2997\n",
      "Epoch 68/100\n",
      "62/62 [==============================] - 0s 8ms/step - loss: 3.4023 - accuracy: 0.3118\n",
      "Epoch 69/100\n",
      "62/62 [==============================] - 1s 8ms/step - loss: 3.3714 - accuracy: 0.3244\n",
      "Epoch 70/100\n",
      "62/62 [==============================] - 1s 9ms/step - loss: 3.3389 - accuracy: 0.3204\n",
      "Epoch 71/100\n",
      "62/62 [==============================] - 1s 9ms/step - loss: 3.3090 - accuracy: 0.3300\n",
      "Epoch 72/100\n",
      "62/62 [==============================] - 1s 8ms/step - loss: 3.2784 - accuracy: 0.3320\n",
      "Epoch 73/100\n",
      "62/62 [==============================] - 1s 8ms/step - loss: 3.2454 - accuracy: 0.3396\n",
      "Epoch 74/100\n",
      "62/62 [==============================] - 1s 9ms/step - loss: 3.2179 - accuracy: 0.3461\n",
      "Epoch 75/100\n",
      "62/62 [==============================] - 1s 8ms/step - loss: 3.1864 - accuracy: 0.3557\n",
      "Epoch 76/100\n",
      "62/62 [==============================] - 0s 8ms/step - loss: 3.1566 - accuracy: 0.3572\n",
      "Epoch 77/100\n",
      "62/62 [==============================] - 0s 8ms/step - loss: 3.1277 - accuracy: 0.3688\n",
      "Epoch 78/100\n",
      "62/62 [==============================] - 1s 8ms/step - loss: 3.0942 - accuracy: 0.3633\n",
      "Epoch 79/100\n",
      "62/62 [==============================] - 1s 8ms/step - loss: 3.0664 - accuracy: 0.3658\n",
      "Epoch 80/100\n",
      "62/62 [==============================] - 1s 8ms/step - loss: 3.0374 - accuracy: 0.3744\n",
      "Epoch 81/100\n",
      "62/62 [==============================] - 1s 8ms/step - loss: 3.0089 - accuracy: 0.3840\n",
      "Epoch 82/100\n",
      "62/62 [==============================] - 1s 8ms/step - loss: 2.9797 - accuracy: 0.3829\n",
      "Epoch 83/100\n",
      "62/62 [==============================] - 1s 8ms/step - loss: 2.9501 - accuracy: 0.3890\n",
      "Epoch 84/100\n",
      "62/62 [==============================] - 1s 8ms/step - loss: 2.9246 - accuracy: 0.3905\n",
      "Epoch 85/100\n",
      "62/62 [==============================] - 1s 9ms/step - loss: 2.8933 - accuracy: 0.3991\n",
      "Epoch 86/100\n",
      "62/62 [==============================] - 1s 8ms/step - loss: 2.8638 - accuracy: 0.4067\n",
      "Epoch 87/100\n",
      "62/62 [==============================] - 0s 8ms/step - loss: 2.8401 - accuracy: 0.4127\n",
      "Epoch 88/100\n",
      "62/62 [==============================] - 0s 8ms/step - loss: 2.8132 - accuracy: 0.4132\n",
      "Epoch 89/100\n",
      "62/62 [==============================] - 0s 8ms/step - loss: 2.7856 - accuracy: 0.4223\n",
      "Epoch 90/100\n",
      "62/62 [==============================] - 1s 9ms/step - loss: 2.7619 - accuracy: 0.4263\n",
      "Epoch 91/100\n",
      "62/62 [==============================] - 0s 8ms/step - loss: 2.7361 - accuracy: 0.4289\n",
      "Epoch 92/100\n",
      "62/62 [==============================] - 0s 8ms/step - loss: 2.7109 - accuracy: 0.4304\n",
      "Epoch 93/100\n",
      "62/62 [==============================] - 1s 8ms/step - loss: 2.6859 - accuracy: 0.4384\n",
      "Epoch 94/100\n",
      "62/62 [==============================] - 1s 9ms/step - loss: 2.6597 - accuracy: 0.4400\n",
      "Epoch 95/100\n",
      "62/62 [==============================] - 0s 8ms/step - loss: 2.6335 - accuracy: 0.4435\n",
      "Epoch 96/100\n",
      "62/62 [==============================] - 0s 8ms/step - loss: 2.6084 - accuracy: 0.4485\n",
      "Epoch 97/100\n",
      "62/62 [==============================] - 0s 8ms/step - loss: 2.5816 - accuracy: 0.4506\n",
      "Epoch 98/100\n",
      "62/62 [==============================] - 1s 8ms/step - loss: 2.5575 - accuracy: 0.4576\n",
      "Epoch 99/100\n",
      "62/62 [==============================] - 0s 8ms/step - loss: 2.5325 - accuracy: 0.4612\n",
      "Epoch 100/100\n",
      "62/62 [==============================] - 1s 8ms/step - loss: 2.5091 - accuracy: 0.4642\n"
     ]
    }
   ],
   "source": [
    "from tensorflow.keras.models import Sequential\n",
    "from tensorflow.keras.layers import Embedding, LSTM, Dense, Bidirectional\n",
    "\n",
    "model = Sequential()\n",
    "model.add(Embedding(total_words, 64, input_length=max_sequence_len-1))\n",
    "model.add(Bidirectional(LSTM(20)))\n",
    "model.add(Dense(total_words, activation='softmax'))\n",
    "model.compile(loss='categorical_crossentropy', optimizer='adam', metrics=['accuracy'])\n",
    "history = model.fit(input_sequences, one_hot_labels, epochs=100, verbose=1)"
   ]
  },
  {
   "cell_type": "markdown",
   "metadata": {
    "id": "MgvIz20nlQcq"
   },
   "source": [
    "### View the Training Graph"
   ]
  },
  {
   "cell_type": "code",
   "execution_count": null,
   "metadata": {
    "colab": {
     "base_uri": "https://localhost:8080/",
     "height": 278
    },
    "id": "rOqmmarvlSLh",
    "outputId": "be8d74a1-01b2-4a10-d8a0-4988f4f7ae4e"
   },
   "outputs": [
    {
     "data": {
      "image/png": "[encoded data removed]",
      "text/plain": [
       "<Figure size 432x288 with 1 Axes>"
      ]
     },
     "metadata": {
      "needs_background": "light",
      "tags": []
     },
     "output_type": "display_data"
    }
   ],
   "source": [
    "import matplotlib.pyplot as plt\n",
    "\n",
    "def plot_graphs(history, string):\n",
    "  plt.plot(history.history[string])\n",
    "  plt.xlabel(\"Epochs\")\n",
    "  plt.ylabel(string)\n",
    "  plt.show()\n",
    "\n",
    "plot_graphs(history, 'accuracy')"
   ]
  },
  {
   "cell_type": "markdown",
   "metadata": {
    "id": "FnkDwVT_Y0_y"
   },
   "source": [
    "### Generate new lyrics!\n",
    "\n",
    "It's finally time to generate some new lyrics from the trained model, and see what we get. To do so, we'll provide some \"seed text\", or an input sequence for the model to start with. We'll also decide just how long of an output sequence we want - this could essentially be infinite, as the input plus the previous output will be continuously fed in for a new output word (at least up to our max sequence length)."
   ]
  },
  {
   "cell_type": "code",
   "execution_count": null,
   "metadata": {
    "colab": {
     "base_uri": "https://localhost:8080/"
    },
    "id": "NEfcTrQvVNz5",
    "outputId": "2013b922-42e3-4a33-e6d3-89be9d9241f6"
   },
   "outputs": [
    {
     "name": "stdout",
     "output_type": "stream",
     "text": [
      "im feeling chills me sing and i am your boomaboomerang and on my eyes never leave me feel fine end leave me feel fine end quiet quiet quiet end but like i eyes believe i eyes believe you leave me girl girl without you feel so on give and take of us know quiet quiet quiet quiet quiet quiet quiet quiet quiet world quiet quiet quiet quiet world eyes andante blue eyes dont am believe return to sender girl girl without good as new what a crazy world so quiet end but tender every eyes believe andante andante andante andante andante andante andante\n"
     ]
    }
   ],
   "source": [
    "seed_text = \"im feeling chills\"\n",
    "next_words = 100\n",
    "  \n",
    "for _ in range(next_words):\n",
    "\ttoken_list = tokenizer.texts_to_sequences([seed_text])[0]\n",
    "\ttoken_list = pad_sequences([token_list], maxlen=max_sequence_len-1, padding='pre')\n",
    "\tpredicted = np.argmax(model.predict(token_list), axis=-1)\n",
    "\toutput_word = \"\"\n",
    "\tfor word, index in tokenizer.word_index.items():\n",
    "\t\tif index == predicted:\n",
    "\t\t\toutput_word = word\n",
    "\t\t\tbreak\n",
    "\tseed_text += \" \" + output_word\n",
    "print(seed_text)"
   ]
  },
  {
   "cell_type": "markdown",
   "metadata": {
    "id": "Jz9x-7dWihxx"
   },
   "source": [
    "## 250 Songs\n",
    "\n",
    "Now we've seen a model trained on just a small sample of songs, and how this often leads to repetition as you get further along in trying to generate new text. Let's switch to using the 250 songs instead, and see if our output improves. This will actually be nearly 10K lines of lyrics, which should be sufficient.\n",
    "\n",
    "Note that we won't use the full dataset here as it will take up quite a bit of RAM and processing time, but you're welcome to try doing so on your own later. If interested, you'll likely want to use only some of the more common words for the Tokenizer, which will help shrink processing time and memory needed (or else you'd have an output array hundreds of thousands of words long)."
   ]
  },
  {
   "cell_type": "code",
   "execution_count": null,
   "metadata": {
    "colab": {
     "base_uri": "https://localhost:8080/",
     "height": 416
    },
    "id": "qcN8cIPQUvUU",
    "outputId": "bedd3819-a246-46f8-fd96-f770775e7f0b"
   },
   "outputs": [
    {
     "data": {
      "text/html": [
       "<div>\n",
       "<style scoped>\n",
       "    .dataframe tbody tr th:only-of-type {\n",
       "        vertical-align: middle;\n",
       "    }\n",
       "\n",
       "    .dataframe tbody tr th {\n",
       "        vertical-align: top;\n",
       "    }\n",
       "\n",
       "    .dataframe thead th {\n",
       "        text-align: right;\n",
       "    }\n",
       "</style>\n",
       "<table border=\"1\" class=\"dataframe\">\n",
       "  <thead>\n",
       "    <tr style=\"text-align: right;\">\n",
       "      <th></th>\n",
       "      <th>artist</th>\n",
       "      <th>song</th>\n",
       "      <th>link</th>\n",
       "      <th>text</th>\n",
       "    </tr>\n",
       "  </thead>\n",
       "  <tbody>\n",
       "    <tr>\n",
       "      <th>0</th>\n",
       "      <td>ABBA</td>\n",
       "      <td>Ahe's My Kind Of Girl</td>\n",
       "      <td>/a/abba/ahes+my+kind+of+girl_20598417.html</td>\n",
       "      <td>Look at her face, it's a wonderful face  \\nAnd...</td>\n",
       "    </tr>\n",
       "    <tr>\n",
       "      <th>1</th>\n",
       "      <td>ABBA</td>\n",
       "      <td>Andante, Andante</td>\n",
       "      <td>/a/abba/andante+andante_20002708.html</td>\n",
       "      <td>Take it easy with me, please  \\nTouch me gentl...</td>\n",
       "    </tr>\n",
       "    <tr>\n",
       "      <th>2</th>\n",
       "      <td>ABBA</td>\n",
       "      <td>As Good As New</td>\n",
       "      <td>/a/abba/as+good+as+new_20003033.html</td>\n",
       "      <td>I'll never know why I had to go  \\nWhy I had t...</td>\n",
       "    </tr>\n",
       "    <tr>\n",
       "      <th>3</th>\n",
       "      <td>ABBA</td>\n",
       "      <td>Bang</td>\n",
       "      <td>/a/abba/bang_20598415.html</td>\n",
       "      <td>Making somebody happy is a question of give an...</td>\n",
       "    </tr>\n",
       "    <tr>\n",
       "      <th>4</th>\n",
       "      <td>ABBA</td>\n",
       "      <td>Bang-A-Boomerang</td>\n",
       "      <td>/a/abba/bang+a+boomerang_20002668.html</td>\n",
       "      <td>Making somebody happy is a question of give an...</td>\n",
       "    </tr>\n",
       "    <tr>\n",
       "      <th>...</th>\n",
       "      <td>...</td>\n",
       "      <td>...</td>\n",
       "      <td>...</td>\n",
       "      <td>...</td>\n",
       "    </tr>\n",
       "    <tr>\n",
       "      <th>245</th>\n",
       "      <td>Air Supply</td>\n",
       "      <td>Believer</td>\n",
       "      <td>/a/air+supply/believer_20522284.html</td>\n",
       "      <td>Believer  \\nI got no where to go  \\nBeliever  ...</td>\n",
       "    </tr>\n",
       "    <tr>\n",
       "      <th>246</th>\n",
       "      <td>Air Supply</td>\n",
       "      <td>Big Cat</td>\n",
       "      <td>/a/air+supply/big+cat_20522283.html</td>\n",
       "      <td>Big cat walking on the wild side  \\nBig cat ta...</td>\n",
       "    </tr>\n",
       "    <tr>\n",
       "      <th>247</th>\n",
       "      <td>Air Supply</td>\n",
       "      <td>Black And Blue</td>\n",
       "      <td>/a/air+supply/black+and+blue_20154341.html</td>\n",
       "      <td>Blue, blue is the color of skies  \\nBlue is th...</td>\n",
       "    </tr>\n",
       "    <tr>\n",
       "      <th>248</th>\n",
       "      <td>Air Supply</td>\n",
       "      <td>Body Glove</td>\n",
       "      <td>/a/air+supply/body+glove_20522282.html</td>\n",
       "      <td>The more you win, the more you gain  \\nAn open...</td>\n",
       "    </tr>\n",
       "    <tr>\n",
       "      <th>249</th>\n",
       "      <td>Air Supply</td>\n",
       "      <td>Book Of Love</td>\n",
       "      <td>/a/air+supply/book+of+love_20522281.html</td>\n",
       "      <td>The book of love, that sacred place  \\nWhere w...</td>\n",
       "    </tr>\n",
       "  </tbody>\n",
       "</table>\n",
       "<p>250 rows × 4 columns</p>\n",
       "</div>"
      ],
      "text/plain": [
       "         artist  ...                                               text\n",
       "0          ABBA  ...  Look at her face, it's a wonderful face  \\nAnd...\n",
       "1          ABBA  ...  Take it easy with me, please  \\nTouch me gentl...\n",
       "2          ABBA  ...  I'll never know why I had to go  \\nWhy I had t...\n",
       "3          ABBA  ...  Making somebody happy is a question of give an...\n",
       "4          ABBA  ...  Making somebody happy is a question of give an...\n",
       "..          ...  ...                                                ...\n",
       "245  Air Supply  ...  Believer  \\nI got no where to go  \\nBeliever  ...\n",
       "246  Air Supply  ...  Big cat walking on the wild side  \\nBig cat ta...\n",
       "247  Air Supply  ...  Blue, blue is the color of skies  \\nBlue is th...\n",
       "248  Air Supply  ...  The more you win, the more you gain  \\nAn open...\n",
       "249  Air Supply  ...  The book of love, that sacred place  \\nWhere w...\n",
       "\n",
       "[250 rows x 4 columns]"
      ]
     },
     "execution_count": 26,
     "metadata": {
      "tags": []
     },
     "output_type": "execute_result"
    }
   ],
   "source": [
    "# Read the dataset from csv - this time with 250 songs\n",
    "dataset = pd.read_csv('/tmp/songdata.csv', dtype=str)[:250]\n",
    "\n",
    "dataset"
   ]
  },
  {
   "cell_type": "code",
   "execution_count": null,
   "metadata": {
    "colab": {
     "base_uri": "https://localhost:8080/"
    },
    "id": "MdEhZfp9U5R9",
    "outputId": "291155ff-8ed8-47f6-80d0-ebc56c29187c"
   },
   "outputs": [
    {
     "name": "stdout",
     "output_type": "stream",
     "text": [
      "2000\n"
     ]
    }
   ],
   "source": [
    "# Create the corpus using the 'text' column containing lyrics\n",
    "corpus = create_lyrics_corpus(dataset, 'text')\n",
    "# Tokenize the corpus\n",
    "tokenizer = tokenize_corpus(corpus, num_words=2000)\n",
    "total_words = tokenizer.num_words\n",
    "\n",
    "# There should be a lot more words now\n",
    "print(total_words)"
   ]
  },
  {
   "cell_type": "code",
   "execution_count": null,
   "metadata": {
    "id": "jVxqTCkDU_ee"
   },
   "outputs": [],
   "source": [
    "sequences = []\n",
    "for line in corpus:\n",
    "\ttoken_list = tokenizer.texts_to_sequences([line])[0]\n",
    "\tfor i in range(1, len(token_list)):\n",
    "\t\tn_gram_sequence = token_list[:i+1]\n",
    "\t\tsequences.append(n_gram_sequence)\n",
    "\n",
    "# Pad sequences for equal input length \n",
    "max_sequence_len = max([len(seq) for seq in sequences])\n",
    "sequences = np.array(pad_sequences(sequences, maxlen=max_sequence_len, padding='pre'))\n",
    "\n",
    "# Split sequences between the \"input\" sequence and \"output\" predicted word\n",
    "input_sequences, labels = sequences[:,:-1], sequences[:,-1]\n",
    "# One-hot encode the labels\n",
    "one_hot_labels = tf.keras.utils.to_categorical(labels, num_classes=total_words)"
   ]
  },
  {
   "cell_type": "markdown",
   "metadata": {
    "id": "cECbqT-blMk-"
   },
   "source": [
    "### Train a (Better) Text Generation Model\n",
    "\n",
    "With more data, we'll cut off after 100 epochs to avoid keeping you here all day. You'll also want to change your runtime type to GPU if you haven't already (you'll need to re-run the above cells if you change runtimes)."
   ]
  },
  {
   "cell_type": "code",
   "execution_count": null,
   "metadata": {
    "colab": {
     "base_uri": "https://localhost:8080/"
    },
    "id": "EUqEuVvfVEI5",
    "outputId": "5e8ddd72-053f-488d-98f1-a2869705137d"
   },
   "outputs": [
    {
     "name": "stdout",
     "output_type": "stream",
     "text": [
      "Epoch 1/100\n",
      "1480/1480 [==============================] - 12s 8ms/step - loss: 5.9800 - accuracy: 0.0463\n",
      "Epoch 2/100\n",
      "1480/1480 [==============================] - 12s 8ms/step - loss: 5.6578 - accuracy: 0.0520\n",
      "Epoch 3/100\n",
      "1480/1480 [==============================] - 12s 8ms/step - loss: 5.4555 - accuracy: 0.0709\n",
      "Epoch 4/100\n",
      "1480/1480 [==============================] - 12s 8ms/step - loss: 5.2779 - accuracy: 0.1001\n",
      "Epoch 5/100\n",
      "1480/1480 [==============================] - 12s 8ms/step - loss: 5.1254 - accuracy: 0.1204\n",
      "Epoch 6/100\n",
      "1480/1480 [==============================] - 12s 8ms/step - loss: 5.0091 - accuracy: 0.1283\n",
      "Epoch 7/100\n",
      "1480/1480 [==============================] - 12s 8ms/step - loss: 4.8999 - accuracy: 0.1394\n",
      "Epoch 8/100\n",
      "1480/1480 [==============================] - 12s 8ms/step - loss: 4.7826 - accuracy: 0.1502\n",
      "Epoch 9/100\n",
      "1480/1480 [==============================] - 12s 8ms/step - loss: 4.6549 - accuracy: 0.1625\n",
      "Epoch 10/100\n",
      "1480/1480 [==============================] - 12s 8ms/step - loss: 4.5311 - accuracy: 0.1747\n",
      "Epoch 11/100\n",
      "1480/1480 [==============================] - 12s 8ms/step - loss: 4.4118 - accuracy: 0.1889\n",
      "Epoch 12/100\n",
      "1480/1480 [==============================] - 12s 8ms/step - loss: 4.3029 - accuracy: 0.2027\n",
      "Epoch 13/100\n",
      "1480/1480 [==============================] - 12s 8ms/step - loss: 4.2114 - accuracy: 0.2157\n",
      "Epoch 14/100\n",
      "1480/1480 [==============================] - 12s 8ms/step - loss: 4.1232 - accuracy: 0.2242\n",
      "Epoch 15/100\n",
      "1480/1480 [==============================] - 12s 8ms/step - loss: 4.0426 - accuracy: 0.2323\n",
      "Epoch 16/100\n",
      "1480/1480 [==============================] - 12s 8ms/step - loss: 3.9660 - accuracy: 0.2433\n",
      "Epoch 17/100\n",
      "1480/1480 [==============================] - 13s 8ms/step - loss: 3.8950 - accuracy: 0.2527\n",
      "Epoch 18/100\n",
      "1480/1480 [==============================] - 12s 8ms/step - loss: 3.8299 - accuracy: 0.2637\n",
      "Epoch 19/100\n",
      "1480/1480 [==============================] - 12s 8ms/step - loss: 3.7712 - accuracy: 0.2718\n",
      "Epoch 20/100\n",
      "1480/1480 [==============================] - 12s 8ms/step - loss: 3.7169 - accuracy: 0.2772\n",
      "Epoch 21/100\n",
      "1480/1480 [==============================] - 12s 8ms/step - loss: 3.6631 - accuracy: 0.2858\n",
      "Epoch 22/100\n",
      "1480/1480 [==============================] - 12s 8ms/step - loss: 3.6130 - accuracy: 0.2936\n",
      "Epoch 23/100\n",
      "1480/1480 [==============================] - 12s 8ms/step - loss: 3.5674 - accuracy: 0.2984\n",
      "Epoch 24/100\n",
      "1480/1480 [==============================] - 12s 8ms/step - loss: 3.5199 - accuracy: 0.3059\n",
      "Epoch 25/100\n",
      "1480/1480 [==============================] - 12s 8ms/step - loss: 3.4774 - accuracy: 0.3109\n",
      "Epoch 26/100\n",
      "1480/1480 [==============================] - 11s 8ms/step - loss: 3.4377 - accuracy: 0.3156\n",
      "Epoch 27/100\n",
      "1480/1480 [==============================] - 12s 8ms/step - loss: 3.3995 - accuracy: 0.3226\n",
      "Epoch 28/100\n",
      "1480/1480 [==============================] - 12s 8ms/step - loss: 3.3641 - accuracy: 0.3288\n",
      "Epoch 29/100\n",
      "1480/1480 [==============================] - 12s 8ms/step - loss: 3.3295 - accuracy: 0.3338\n",
      "Epoch 30/100\n",
      "1480/1480 [==============================] - 12s 8ms/step - loss: 3.2978 - accuracy: 0.3372\n",
      "Epoch 31/100\n",
      "1480/1480 [==============================] - 11s 8ms/step - loss: 3.2636 - accuracy: 0.3420\n",
      "Epoch 32/100\n",
      "1480/1480 [==============================] - 12s 8ms/step - loss: 3.2350 - accuracy: 0.3466\n",
      "Epoch 33/100\n",
      "1480/1480 [==============================] - 12s 8ms/step - loss: 3.2037 - accuracy: 0.3526\n",
      "Epoch 34/100\n",
      "1480/1480 [==============================] - 11s 8ms/step - loss: 3.1744 - accuracy: 0.3568\n",
      "Epoch 35/100\n",
      "1480/1480 [==============================] - 11s 8ms/step - loss: 3.1460 - accuracy: 0.3616\n",
      "Epoch 36/100\n",
      "1480/1480 [==============================] - 12s 8ms/step - loss: 3.1213 - accuracy: 0.3667\n",
      "Epoch 37/100\n",
      "1480/1480 [==============================] - 12s 8ms/step - loss: 3.0947 - accuracy: 0.3699\n",
      "Epoch 38/100\n",
      "1480/1480 [==============================] - 11s 8ms/step - loss: 3.0722 - accuracy: 0.3751\n",
      "Epoch 39/100\n",
      "1480/1480 [==============================] - 11s 8ms/step - loss: 3.0475 - accuracy: 0.3783\n",
      "Epoch 40/100\n",
      "1480/1480 [==============================] - 11s 8ms/step - loss: 3.0257 - accuracy: 0.3821\n",
      "Epoch 41/100\n",
      "1480/1480 [==============================] - 11s 8ms/step - loss: 3.0049 - accuracy: 0.3849\n",
      "Epoch 42/100\n",
      "1480/1480 [==============================] - 12s 8ms/step - loss: 2.9822 - accuracy: 0.3888\n",
      "Epoch 43/100\n",
      "1480/1480 [==============================] - 12s 8ms/step - loss: 2.9606 - accuracy: 0.3928\n",
      "Epoch 44/100\n",
      "1480/1480 [==============================] - 12s 8ms/step - loss: 2.9397 - accuracy: 0.3947\n",
      "Epoch 45/100\n",
      "1480/1480 [==============================] - 12s 8ms/step - loss: 2.9180 - accuracy: 0.4000\n",
      "Epoch 46/100\n",
      "1480/1480 [==============================] - 12s 8ms/step - loss: 2.9079 - accuracy: 0.3997\n",
      "Epoch 47/100\n",
      "1480/1480 [==============================] - 12s 8ms/step - loss: 2.8819 - accuracy: 0.4055\n",
      "Epoch 48/100\n",
      "1480/1480 [==============================] - 11s 8ms/step - loss: 2.8658 - accuracy: 0.4096\n",
      "Epoch 49/100\n",
      "1480/1480 [==============================] - 12s 8ms/step - loss: 2.8476 - accuracy: 0.4115\n",
      "Epoch 50/100\n",
      "1480/1480 [==============================] - 12s 8ms/step - loss: 2.8301 - accuracy: 0.4137\n",
      "Epoch 51/100\n",
      "1480/1480 [==============================] - 12s 8ms/step - loss: 2.8190 - accuracy: 0.4147\n",
      "Epoch 52/100\n",
      "1480/1480 [==============================] - 12s 8ms/step - loss: 2.7997 - accuracy: 0.4192\n",
      "Epoch 53/100\n",
      "1480/1480 [==============================] - 12s 8ms/step - loss: 2.7838 - accuracy: 0.4219\n",
      "Epoch 54/100\n",
      "1480/1480 [==============================] - 12s 8ms/step - loss: 2.7649 - accuracy: 0.4251\n",
      "Epoch 55/100\n",
      "1480/1480 [==============================] - 12s 8ms/step - loss: 2.7560 - accuracy: 0.4249\n",
      "Epoch 56/100\n",
      "1480/1480 [==============================] - 11s 8ms/step - loss: 2.7358 - accuracy: 0.4298\n",
      "Epoch 57/100\n",
      "1480/1480 [==============================] - 12s 8ms/step - loss: 2.7212 - accuracy: 0.4329\n",
      "Epoch 58/100\n",
      "1480/1480 [==============================] - 12s 8ms/step - loss: 2.7123 - accuracy: 0.4352\n",
      "Epoch 59/100\n",
      "1480/1480 [==============================] - 12s 8ms/step - loss: 2.6923 - accuracy: 0.4368\n",
      "Epoch 60/100\n",
      "1480/1480 [==============================] - 12s 8ms/step - loss: 2.6835 - accuracy: 0.4382\n",
      "Epoch 61/100\n",
      "1480/1480 [==============================] - 11s 8ms/step - loss: 2.6645 - accuracy: 0.4410\n",
      "Epoch 62/100\n",
      "1480/1480 [==============================] - 12s 8ms/step - loss: 2.6554 - accuracy: 0.4454\n",
      "Epoch 63/100\n",
      "1480/1480 [==============================] - 11s 8ms/step - loss: 2.6425 - accuracy: 0.4468\n",
      "Epoch 64/100\n",
      "1480/1480 [==============================] - 12s 8ms/step - loss: 2.6301 - accuracy: 0.4485\n",
      "Epoch 65/100\n",
      "1480/1480 [==============================] - 11s 8ms/step - loss: 2.6127 - accuracy: 0.4499\n",
      "Epoch 66/100\n",
      "1480/1480 [==============================] - 11s 8ms/step - loss: 2.6092 - accuracy: 0.4525\n",
      "Epoch 67/100\n",
      "1480/1480 [==============================] - 12s 8ms/step - loss: 2.5856 - accuracy: 0.4553\n",
      "Epoch 68/100\n",
      "1480/1480 [==============================] - 11s 8ms/step - loss: 2.5799 - accuracy: 0.4575\n",
      "Epoch 69/100\n",
      "1480/1480 [==============================] - 12s 8ms/step - loss: 2.5687 - accuracy: 0.4597\n",
      "Epoch 70/100\n",
      "1480/1480 [==============================] - 12s 8ms/step - loss: 2.5546 - accuracy: 0.4619\n",
      "Epoch 71/100\n",
      "1480/1480 [==============================] - 12s 8ms/step - loss: 2.5425 - accuracy: 0.4635\n",
      "Epoch 72/100\n",
      "1480/1480 [==============================] - 12s 8ms/step - loss: 2.5343 - accuracy: 0.4654\n",
      "Epoch 73/100\n",
      "1480/1480 [==============================] - 11s 8ms/step - loss: 2.5287 - accuracy: 0.4662\n",
      "Epoch 74/100\n",
      "1480/1480 [==============================] - 12s 8ms/step - loss: 2.5188 - accuracy: 0.4670\n",
      "Epoch 75/100\n",
      "1480/1480 [==============================] - 11s 8ms/step - loss: 2.5122 - accuracy: 0.4693\n",
      "Epoch 76/100\n",
      "1480/1480 [==============================] - 11s 8ms/step - loss: 2.4989 - accuracy: 0.4720\n",
      "Epoch 77/100\n",
      "1480/1480 [==============================] - 12s 8ms/step - loss: 2.4817 - accuracy: 0.4756\n",
      "Epoch 78/100\n",
      "1480/1480 [==============================] - 12s 8ms/step - loss: 2.4728 - accuracy: 0.4756\n",
      "Epoch 79/100\n",
      "1480/1480 [==============================] - 11s 8ms/step - loss: 2.4661 - accuracy: 0.4768\n",
      "Epoch 80/100\n",
      "1480/1480 [==============================] - 11s 8ms/step - loss: 2.4591 - accuracy: 0.4788\n",
      "Epoch 81/100\n",
      "1480/1480 [==============================] - 12s 8ms/step - loss: 2.4462 - accuracy: 0.4797\n",
      "Epoch 82/100\n",
      "1480/1480 [==============================] - 12s 8ms/step - loss: 2.4347 - accuracy: 0.4840\n",
      "Epoch 83/100\n",
      "1480/1480 [==============================] - 12s 8ms/step - loss: 2.4292 - accuracy: 0.4858\n",
      "Epoch 84/100\n",
      "1480/1480 [==============================] - 12s 8ms/step - loss: 2.4197 - accuracy: 0.4848\n",
      "Epoch 85/100\n",
      "1480/1480 [==============================] - 11s 8ms/step - loss: 2.4129 - accuracy: 0.4862\n",
      "Epoch 86/100\n",
      "1480/1480 [==============================] - 12s 8ms/step - loss: 2.3921 - accuracy: 0.4909\n",
      "Epoch 87/100\n",
      "1480/1480 [==============================] - 12s 8ms/step - loss: 2.3870 - accuracy: 0.4918\n",
      "Epoch 88/100\n",
      "1480/1480 [==============================] - 12s 8ms/step - loss: 2.3907 - accuracy: 0.4901\n",
      "Epoch 89/100\n",
      "1480/1480 [==============================] - 12s 8ms/step - loss: 2.3791 - accuracy: 0.4909\n",
      "Epoch 90/100\n",
      "1480/1480 [==============================] - 12s 8ms/step - loss: 2.3644 - accuracy: 0.4963\n",
      "Epoch 91/100\n",
      "1480/1480 [==============================] - 12s 8ms/step - loss: 2.3554 - accuracy: 0.4963\n",
      "Epoch 92/100\n",
      "1480/1480 [==============================] - 12s 8ms/step - loss: 2.3497 - accuracy: 0.4979\n",
      "Epoch 93/100\n",
      "1480/1480 [==============================] - 12s 8ms/step - loss: 2.3497 - accuracy: 0.4986\n",
      "Epoch 94/100\n",
      "1480/1480 [==============================] - 12s 8ms/step - loss: 2.3454 - accuracy: 0.4982\n",
      "Epoch 95/100\n",
      "1480/1480 [==============================] - 12s 8ms/step - loss: 2.3519 - accuracy: 0.4958\n",
      "Epoch 96/100\n",
      "1480/1480 [==============================] - 11s 8ms/step - loss: 2.3161 - accuracy: 0.5044\n",
      "Epoch 97/100\n",
      "1480/1480 [==============================] - 12s 8ms/step - loss: 2.3211 - accuracy: 0.5023\n",
      "Epoch 98/100\n",
      "1480/1480 [==============================] - 12s 8ms/step - loss: 2.3051 - accuracy: 0.5057\n",
      "Epoch 99/100\n",
      "1480/1480 [==============================] - 12s 8ms/step - loss: 2.3017 - accuracy: 0.5070\n",
      "Epoch 100/100\n",
      "1480/1480 [==============================] - 12s 8ms/step - loss: 2.2945 - accuracy: 0.5078\n"
     ]
    }
   ],
   "source": [
    "from tensorflow.keras.models import Sequential\n",
    "from tensorflow.keras.layers import Embedding, LSTM, Dense, Bidirectional\n",
    "\n",
    "model = Sequential()\n",
    "model.add(Embedding(total_words, 64, input_length=max_sequence_len-1))\n",
    "model.add(Bidirectional(LSTM(20)))\n",
    "model.add(Dense(total_words, activation='softmax'))\n",
    "model.compile(loss='categorical_crossentropy', optimizer='adam', metrics=['accuracy'])\n",
    "history = model.fit(input_sequences, one_hot_labels, epochs=100, verbose=1)"
   ]
  },
  {
   "cell_type": "code",
   "execution_count": null,
   "metadata": {
    "colab": {
     "base_uri": "https://localhost:8080/",
     "height": 278
    },
    "id": "S6bvq6SjVGFA",
    "outputId": "84a3cfe4-4330-4202-82c3-faa0419dbbdf"
   },
   "outputs": [
    {
     "data": {
      "image/png": "[encoded data removed]",
      "text/plain": [
       "<Figure size 432x288 with 1 Axes>"
      ]
     },
     "metadata": {
      "needs_background": "light",
      "tags": []
     },
     "output_type": "display_data"
    }
   ],
   "source": [
    "import matplotlib.pyplot as plt\n",
    "\n",
    "def plot_graphs(history, string):\n",
    "  plt.plot(history.history[string])\n",
    "  plt.xlabel(\"Epochs\")\n",
    "  plt.ylabel(string)\n",
    "  plt.show()\n",
    "\n",
    "plot_graphs(history, 'accuracy')"
   ]
  },
  {
   "cell_type": "markdown",
   "metadata": {
    "id": "ISLZZGlQlSxh"
   },
   "source": [
    "### Generate better lyrics!\n",
    "\n",
    "This time around, we should be able to get a more interesting output with less repetition."
   ]
  },
  {
   "cell_type": "code",
   "execution_count": null,
   "metadata": {
    "colab": {
     "base_uri": "https://localhost:8080/"
    },
    "id": "P96oVMk3lU7y",
    "outputId": "b5d54a00-aa39-4f49-bff0-9c7e5b2cf205"
   },
   "outputs": [
    {
     "name": "stdout",
     "output_type": "stream",
     "text": [
      "im feeling chills me to the bone that you think me start you feel the pain i miss lovin you and joe round and seas questions tonight might sounds knew beast believed reaching games first talked temperature cloud beast ball point rights cloud light of female company likes rushing paint knew the devil are your brother reaching dice honey i did you humdehumhum never never never be me for a little good with a minute honolulu this block beyond learn lucky i do is flowing over over bags your female dreamworld likes rushing open grown travel row starts memries x4 noises noises glowing\n"
     ]
    }
   ],
   "source": [
    "seed_text = \"im feeling chills\"\n",
    "next_words = 100\n",
    "  \n",
    "for _ in range(next_words):\n",
    "\ttoken_list = tokenizer.texts_to_sequences([seed_text])[0]\n",
    "\ttoken_list = pad_sequences([token_list], maxlen=max_sequence_len-1, padding='pre')\n",
    "\tpredicted = np.argmax(model.predict(token_list), axis=-1)\n",
    "\toutput_word = \"\"\n",
    "\tfor word, index in tokenizer.word_index.items():\n",
    "\t\tif index == predicted:\n",
    "\t\t\toutput_word = word\n",
    "\t\t\tbreak\n",
    "\tseed_text += \" \" + output_word\n",
    "print(seed_text)"
   ]
  },
  {
   "cell_type": "markdown",
   "metadata": {
    "id": "upgJKV8_oRU9"
   },
   "source": [
    "### Varying the Possible Outputs\n",
    "\n",
    "In running the above, you may notice that the same seed text will generate similar outputs. This is because the code is currently always choosing the top predicted class as the next word. What if you wanted more variance in the output? \n",
    "\n",
    "Switching from `model.predict_classes` to `model.predict_proba` will get us all of the class probabilities. We can combine this with `np.random.choice` to select a given predicted output based on a probability, thereby giving a bit more randomness to our outputs."
   ]
  },
  {
   "cell_type": "code",
   "execution_count": null,
   "metadata": {
    "colab": {
     "base_uri": "https://localhost:8080/"
    },
    "id": "lZe9gaJeoGVP",
    "outputId": "f1e662ab-5d66-4246-94a4-2099309afd17"
   },
   "outputs": [
    {
     "name": "stdout",
     "output_type": "stream",
     "text": [
      "381\n"
     ]
    }
   ],
   "source": [
    "# Test the method with just the first word after the seed text\n",
    "seed_text = \"im feeling chills\"\n",
    "next_words = 100\n",
    "  \n",
    "token_list = tokenizer.texts_to_sequences([seed_text])[0]\n",
    "token_list = pad_sequences([token_list], maxlen=max_sequence_len-1, padding='pre')\n",
    "predicted_probs = model.predict(token_list)[0]\n",
    "predicted = np.random.choice([x for x in range(len(predicted_probs))], \n",
    "                             p=predicted_probs)\n",
    "# Running this cell multiple times should get you some variance in output\n",
    "print(predicted)"
   ]
  },
  {
   "cell_type": "code",
   "execution_count": null,
   "metadata": {
    "colab": {
     "base_uri": "https://localhost:8080/"
    },
    "id": "ee7WKgRGrJy1",
    "outputId": "4cb354e3-e1a6-4b95-a983-d7fd48aa25a1"
   },
   "outputs": [
    {
     "name": "stdout",
     "output_type": "stream",
     "text": [
      "im feeling chills until you humdehumhum showed he gently knew without to stay hawaii track hawaii bitch of the real last female company falling knew im going crazy in dark kin minds softly earth day smokin stinky heh x2 wants rushing knows wed school around my reaching beyond glory beats cow silly eats horns its done street im here is me make my trees sailing miss its breaking this ball man will see going through following following feeling next smiles if with reaching but we humdehumhum the breakfast humdehumhum in not sore eyes the office half her song gotta hoppin lights lights state\n"
     ]
    }
   ],
   "source": [
    "# Use this process for the full output generation\n",
    "seed_text = \"im feeling chills\"\n",
    "next_words = 100\n",
    "  \n",
    "for _ in range(next_words):\n",
    "  token_list = tokenizer.texts_to_sequences([seed_text])[0]\n",
    "  token_list = pad_sequences([token_list], maxlen=max_sequence_len-1, padding='pre')\n",
    "  predicted_probs = model.predict(token_list)[0]\n",
    "  predicted = np.random.choice([x for x in range(len(predicted_probs))],\n",
    "                               p=predicted_probs)\n",
    "  output_word = \"\"\n",
    "  for word, index in tokenizer.word_index.items():\n",
    "    if index == predicted:\n",
    "      output_word = word\n",
    "      break\n",
    "  seed_text += \" \" + output_word\n",
    "print(seed_text)"
   ]
  },
  {
   "cell_type": "markdown",
   "metadata": {
    "id": "p8Hl9pOkAJjc"
   },
   "source": [
    "## Credits (Reference)\n",
    "\n",
    "> - [Lex Fridman's MIT Deep Learning](https://github.com/lexfridman/mit-deep-learning)\n",
    "> - [Intro to TensorFlow Udacity](https://classroom.udacity.com/courses/ud187/l)\n",
    "> - [TensorFlow Examples Constructing Text Generation](https://github.com/tensorflow/examples/blob/master/courses/udacity_intro_to_tensorflow_for_deep_learning/l10c03_nlp_constructing_text_generation_model.ipynb)\n",
    "> - [TensorFlow Examples Optimizing Text Generation](https://github.com/tensorflow/examples/blob/master/courses/udacity_intro_to_tensorflow_for_deep_learning/l10c04_nlp_optimizing_the_text_generation_model.ipynb)\n",
    "> - [TensorFlow Tutorial](https://www.tensorflow.org/tutorials)\n"
   ]
  },
  {
   "cell_type": "code",
   "execution_count": null,
   "metadata": {
    "id": "p36MPA7MdrEp"
   },
   "outputs": [],
   "source": []
  }
 ],
 "metadata": {
  "accelerator": "GPU",
  "colab": {
   "collapsed_sections": [],
   "name": "DTSense_NLP",
   "provenance": [],
   "toc_visible": true
  },
  "kernelspec": {
   "display_name": "Python 3",
   "language": "python",
   "name": "python3"
  },
  "language_info": {
   "codemirror_mode": {
    "name": "ipython",
    "version": 3
   },
   "file_extension": ".py",
   "mimetype": "text/x-python",
   "name": "python",
   "nbconvert_exporter": "python",
   "pygments_lexer": "ipython3",
   "version": "3.7.3"
  }
 },
 "nbformat": 4,
 "nbformat_minor": 1
}
